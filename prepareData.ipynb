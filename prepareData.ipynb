{
 "cells": [
  {
   "cell_type": "code",
   "execution_count": 32,
   "metadata": {},
   "outputs": [],
   "source": [
    "import pandas as pd\n",
    "import numpy as np\n",
    "\n",
    "import torch\n",
    "from torch.utils.data import Dataset, DataLoader"
   ]
  },
  {
   "cell_type": "code",
   "execution_count": 5,
   "metadata": {},
   "outputs": [],
   "source": [
    "def clean_csv(dataframe):\n",
    "    columns = ['Pclass', 'Age', 'SibSp', 'Parch', 'Fare']\n",
    "    for column in columns:\n",
    "        if dataframe[column].isnull().values.any():\n",
    "            mean = dataframe[column].mean()\n",
    "            dataframe[column].fillna(mean, inplace=True)\n",
    "            \n",
    "    dataframe['Sex'].replace({'male': 0, 'female' : 1}, inplace=True)\n",
    "    dataframe['Embarked'].replace({'C': 0, 'Q' : 1, 'S' : 3}, inplace=True)\n",
    "            \n",
    "    return dataframe"
   ]
  },
  {
   "cell_type": "code",
   "execution_count": 35,
   "metadata": {},
   "outputs": [],
   "source": [
    "class TitanicDataset(Dataset):\n",
    "  def __init__(self, X, Y,):\n",
    "    self.X = X\n",
    "    self.Y = Y\n",
    "    \n",
    "  def __len__(self):\n",
    "    return len(self.X)\n",
    "\n",
    "  def __getitem__(self, idx):\n",
    "    X, Y = self.X[idx], self.Y[idx]\n",
    "    return X, Y"
   ]
  },
  {
   "cell_type": "code",
   "execution_count": 49,
   "metadata": {},
   "outputs": [],
   "source": [
    "def prepare_data(csv_name, opt, batch_size, scaler):\n",
    "    np.set_printoptions(precision=4, suppress=True)\n",
    "    \n",
    "    df = pd.read_csv(csv_name)\n",
    "    df = clean_csv(df)\n",
    "\n",
    "    if opt == 0:\n",
    "        df = df[['Sex', 'Pclass', 'Age', 'SibSp', 'Parch', 'Fare', 'Embarked', 'Survived']]\n",
    "        df = df.dropna()\n",
    "        n_features = df.shape[1] - 1 \n",
    "        X_train = df.iloc[:, :n_features].values\n",
    "        Y_train = df.iloc[:, n_features:].values\n",
    "        X_train = scaler.fit_transform(X_train)\n",
    "        X_train = scaler.fit_transform(X_train)\n",
    "        train_dataset = TitanicDataset(X_train, Y_train)\n",
    "        return DataLoader(train_dataset, batch_size=batch_size, shuffle=True)\n",
    "\n",
    "    else:\n",
    "        passenger_id = df['PassengerId']\n",
    "        df = df[['Sex', 'Pclass', 'Age', 'SibSp', 'Parch', 'Fare', 'Embarked']]\n",
    "        df = df.dropna()\n",
    "        X_test = df.values\n",
    "        X_test = scaler.fit_transform(X_test)\n",
    "        return torch.tensor(X_test).to('cuda'), passenger_id"
   ]
  }
 ],
 "metadata": {
  "kernelspec": {
   "display_name": "base",
   "language": "python",
   "name": "python3"
  },
  "language_info": {
   "codemirror_mode": {
    "name": "ipython",
    "version": 3
   },
   "file_extension": ".py",
   "mimetype": "text/x-python",
   "name": "python",
   "nbconvert_exporter": "python",
   "pygments_lexer": "ipython3",
   "version": "3.9.13"
  },
  "orig_nbformat": 4
 },
 "nbformat": 4,
 "nbformat_minor": 2
}
